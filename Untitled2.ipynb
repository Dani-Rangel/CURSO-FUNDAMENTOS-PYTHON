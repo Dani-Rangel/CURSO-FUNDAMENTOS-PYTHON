{
  "nbformat": 4,
  "nbformat_minor": 0,
  "metadata": {
    "colab": {
      "provenance": []
    },
    "kernelspec": {
      "name": "python3",
      "display_name": "Python 3"
    },
    "language_info": {
      "name": "python"
    }
  },
  "cells": [
    {
      "cell_type": "markdown",
      "source": [
        "Introduccion\n"
      ],
      "metadata": {
        "id": "-f3q1IqOzOwK"
      }
    },
    {
      "cell_type": "markdown",
      "source": [
        "Se denominan colecciones y son estructuras que nos permite almacenar datos."
      ],
      "metadata": {
        "id": "C12iVC2AzRcP"
      }
    },
    {
      "cell_type": "markdown",
      "source": [
        "En **PYTHON** existen varios tipo de colecciones:\n",
        "Listas\n",
        "Tuplas\n",
        "Conjuntos\n",
        "Diccionarios"
      ],
      "metadata": {
        "id": "Uyn7ehiZzWOY"
      }
    },
    {
      "cell_type": "markdown",
      "source": [
        "**LISTAS**"
      ],
      "metadata": {
        "id": "vK95jZn3zxHH"
      }
    },
    {
      "cell_type": "markdown",
      "source": [
        "Las listas son similares a los arreglos en JS y nos permiten acceder a sus elementos a traves de sus indices."
      ],
      "metadata": {
        "id": "8Q_K6zh1z00n"
      }
    },
    {
      "cell_type": "markdown",
      "source": [
        "## CREACIÓN Y ACCESO\n",
        "\n"
      ],
      "metadata": {
        "id": "SWy3On0r0BhX"
      }
    },
    {
      "cell_type": "markdown",
      "source": [
        "Utilizan corchetes para la creación y acceso a sus elementos."
      ],
      "metadata": {
        "id": "WzIS3RHt0EIP"
      }
    },
    {
      "cell_type": "code",
      "execution_count": null,
      "metadata": {
        "colab": {
          "base_uri": "https://localhost:8080/"
        },
        "id": "etNqZN19zIDM",
        "outputId": "bcff30b7-94b9-44c2-9073-e81c627c0285"
      },
      "outputs": [
        {
          "output_type": "stream",
          "name": "stdout",
          "text": [
            "['Python', 'Java', 'JavaScript', 'C#']\n",
            "Python\n",
            "Java\n",
            "JavaScript\n",
            "['PHP', 'Java', 'JavaScript', 'C#']\n"
          ]
        }
      ],
      "source": [
        "lenguajes = [\"Python\", \"Java\", \"JavaScript\", \"C#\"]\n",
        "print(lenguajes)\n",
        "print (lenguajes[0])\n",
        "print (lenguajes[1])\n",
        "print (lenguajes[2])\n",
        "lenguajes [0] = \"PHP\" #Cambiso el primer valor de la lista a PHP\n",
        "print(lenguajes) #Las listas son mutables, es decir, podemos cambiar el contenido de la lista"
      ]
    },
    {
      "cell_type": "code",
      "source": [
        "numeros = [3,4,5,6,7,8,9]\n",
        "res = numeros [-3] + numeros [5]\n",
        "print (res)"
      ],
      "metadata": {
        "colab": {
          "base_uri": "https://localhost:8080/"
        },
        "id": "-9AKQ0zO0vdQ",
        "outputId": "67ad99c1-5e07-4a36-d521-51ad37e806e3"
      },
      "execution_count": null,
      "outputs": [
        {
          "output_type": "stream",
          "name": "stdout",
          "text": [
            "15\n"
          ]
        }
      ]
    },
    {
      "cell_type": "markdown",
      "source": [
        "#Otra forma alternativa de crear listas es con la función **list**\n"
      ],
      "metadata": {
        "id": "xES_zxz81UiQ"
      }
    },
    {
      "cell_type": "code",
      "source": [
        "mi_lista = list('1234567')\n",
        "print(mi_lista)\n",
        "milista_enteros = [int (x) for x in mi_lista] #Forma para pasar los numeros a enteros\n",
        "print(milista_enteros)"
      ],
      "metadata": {
        "colab": {
          "base_uri": "https://localhost:8080/"
        },
        "id": "P920iMDz1Z33",
        "outputId": "03f036a1-e3cb-4b04-8200-a5962b9138db"
      },
      "execution_count": null,
      "outputs": [
        {
          "output_type": "stream",
          "name": "stdout",
          "text": [
            "['1', '2', '3', '4', '5', '6', '7']\n",
            "[1, 2, 3, 4, 5, 6, 7]\n"
          ]
        }
      ]
    },
    {
      "cell_type": "code",
      "source": [
        "mi_lista = list('1234567')\n",
        "lista_final = []\n",
        "\n",
        "for x in mi_lista: #A medida que se va recorriendo el ciclo se va llenado la lista\n",
        "  lista_final.append(int(x)) #Append es colocar el dato siguente, imprime la lista igual mente\n",
        "\n",
        "print(lista_final)"
      ],
      "metadata": {
        "colab": {
          "base_uri": "https://localhost:8080/"
        },
        "id": "ap3b1TE6193_",
        "outputId": "12a0b01f-1252-427f-8cc2-034a1ef3c5b3"
      },
      "execution_count": null,
      "outputs": [
        {
          "output_type": "stream",
          "name": "stdout",
          "text": [
            "[1, 2, 3, 4, 5, 6, 7]\n"
          ]
        }
      ]
    },
    {
      "cell_type": "code",
      "source": [
        "ml = list( range(1,20))\n",
        "print(ml) #Va hasta el 19 porque va hasta el ultumo valor, en este caso 19"
      ],
      "metadata": {
        "colab": {
          "base_uri": "https://localhost:8080/"
        },
        "id": "8vjSrW6n2Vkx",
        "outputId": "e1f9e620-9af8-4224-efe7-79995523defa"
      },
      "execution_count": null,
      "outputs": [
        {
          "output_type": "stream",
          "name": "stdout",
          "text": [
            "[1, 2, 3, 4, 5, 6, 7, 8, 9, 10, 11, 12, 13, 14, 15, 16, 17, 18, 19]\n"
          ]
        }
      ]
    },
    {
      "cell_type": "markdown",
      "source": [
        "Una lista en python puede almacenar cualquier tipo de dato, incluso tambien puede almacenar listas."
      ],
      "metadata": {
        "id": "ZzbyO9RP2mR4"
      }
    },
    {
      "cell_type": "code",
      "source": [
        "mi_lista = [2, 3.5, True, \"sena\", [\"3\", \"8\", \"a\", 5] ]\n",
        "print (mi_lista)"
      ],
      "metadata": {
        "colab": {
          "base_uri": "https://localhost:8080/"
        },
        "id": "eoZvmnA52q_n",
        "outputId": "a59b9603-d27a-45cd-e161-20ae4ba4a08b"
      },
      "execution_count": null,
      "outputs": [
        {
          "output_type": "stream",
          "name": "stdout",
          "text": [
            "[2, 3.5, True, 'sena', ['3', '8', 'a', 5]]\n"
          ]
        }
      ]
    },
    {
      "cell_type": "code",
      "source": [
        "mi_lista = [1,2,3, ['p', 'q', [5,6,7]]]\n",
        "\n",
        "print(mi_lista[-1][-1][-2]) #Hay que tener en cuenta el conceptos de slicing y las posiciones\n"
      ],
      "metadata": {
        "colab": {
          "base_uri": "https://localhost:8080/"
        },
        "id": "a2Hy_HK92_aY",
        "outputId": "b9b94b58-7214-4b59-a230-4a7f0ce9e042"
      },
      "execution_count": null,
      "outputs": [
        {
          "output_type": "stream",
          "name": "stdout",
          "text": [
            "6\n"
          ]
        }
      ]
    },
    {
      "cell_type": "code",
      "source": [
        "mi_lista = list(range(1,10))\n",
        "print(mi_lista)\n",
        "print(mi_lista[1:4])\n",
        "print(mi_lista[:2])\n",
        "print(mi_lista[7:])\n",
        "print(mi_lista[-5:-1])\n",
        "print(mi_lista[-3:])"
      ],
      "metadata": {
        "colab": {
          "base_uri": "https://localhost:8080/"
        },
        "id": "HSPm-aH35dzI",
        "outputId": "a62bae10-002a-40bc-de14-e680b00d68c8"
      },
      "execution_count": null,
      "outputs": [
        {
          "output_type": "stream",
          "name": "stdout",
          "text": [
            "[1, 2, 3, 4, 5, 6, 7, 8, 9]\n",
            "[2, 3, 4]\n",
            "[1, 2]\n",
            "[8, 9]\n",
            "[5, 6, 7, 8]\n",
            "[7, 8, 9]\n"
          ]
        }
      ]
    },
    {
      "cell_type": "code",
      "source": [
        "mi_lista = [1,2,3,4,5]\n",
        "mi_lista [0:3] = [\"a\", \"b\", \"c\"] #Del 0 al cero decimos que lo vamos a hacer con esos valores e imprime el resto\n",
        "print(mi_lista)"
      ],
      "metadata": {
        "colab": {
          "base_uri": "https://localhost:8080/"
        },
        "id": "QFTi5H1N6fvo",
        "outputId": "f6ad914f-bff8-4d92-8cb5-f130ba3c4031"
      },
      "execution_count": null,
      "outputs": [
        {
          "output_type": "stream",
          "name": "stdout",
          "text": [
            "['a', 'b', 'c', 4, 5]\n"
          ]
        }
      ]
    },
    {
      "cell_type": "code",
      "source": [
        "mi_lista = [1, 2, 3, 4, 5]\n",
        "mi_lista = mi_lista + [6]\n",
        "print(mi_lista)\n",
        "mi_lista = mi_lista + [7,8,9]\n",
        "print(mi_lista)"
      ],
      "metadata": {
        "colab": {
          "base_uri": "https://localhost:8080/"
        },
        "id": "7ajvMvmT6_YZ",
        "outputId": "3b4229a7-6e8e-4352-d1b0-a50b9fb4a60d"
      },
      "execution_count": null,
      "outputs": [
        {
          "output_type": "stream",
          "name": "stdout",
          "text": [
            "[1, 2, 3, 4, 5, 6]\n",
            "[1, 2, 3, 4, 5, 6, 7, 8, 9]\n"
          ]
        }
      ]
    },
    {
      "cell_type": "code",
      "source": [
        "mi_lista = [1,2,3]\n",
        "x,y,z = mi_lista\n",
        "print(f\"Valor de x:{x}\")\n",
        "print(f\"Valor de y:{y}\")\n",
        "print(f\"Valor de z:{z}\")\n"
      ],
      "metadata": {
        "colab": {
          "base_uri": "https://localhost:8080/"
        },
        "id": "dTl7EIbX7QQ4",
        "outputId": "0bba9914-daa7-4645-fecf-8d56dc917b40"
      },
      "execution_count": null,
      "outputs": [
        {
          "output_type": "stream",
          "name": "stdout",
          "text": [
            "Valor de x:1\n",
            "Valor de y:2\n",
            "Valor de z:3\n"
          ]
        }
      ]
    },
    {
      "cell_type": "code",
      "source": [],
      "metadata": {
        "id": "88waF5jY7lCP"
      },
      "execution_count": null,
      "outputs": []
    },
    {
      "cell_type": "markdown",
      "source": [
        "#Eliminación e inserción\n"
      ],
      "metadata": {
        "id": "zITQU4Fk7nm5"
      }
    },
    {
      "cell_type": "markdown",
      "source": [
        "Para elimninar los elementos de una lista utilizamos una palabra reservada.\n"
      ],
      "metadata": {
        "id": "TkxSVbCO7p5o"
      }
    },
    {
      "cell_type": "code",
      "source": [
        "lenguajes = [\"Python\", \"Java\", \"JavaScript\"]\n",
        "del lenguajes [1]\n",
        "print(lenguajes)"
      ],
      "metadata": {
        "colab": {
          "base_uri": "https://localhost:8080/"
        },
        "id": "TiQfJVuX7uUo",
        "outputId": "03a73598-97f3-4ea6-d13b-0ee4fdf1817c"
      },
      "execution_count": null,
      "outputs": [
        {
          "output_type": "stream",
          "name": "stdout",
          "text": [
            "['Python', 'JavaScript']\n"
          ]
        }
      ]
    },
    {
      "cell_type": "markdown",
      "source": [
        "Expliquemos como insertar datos con la funcion **Insert** y al final de la lista con **apend**"
      ],
      "metadata": {
        "id": "9Gf9bWK38NtI"
      }
    },
    {
      "cell_type": "code",
      "source": [
        "lenguajes = [\"python\", \"java\",\"javascript\"]\n",
        "lenguajes.append(\"C#\")\n",
        "lenguajes.append(\"Ruby\")\n",
        "lenguajes.insert(1,\"c++\")\n",
        "print(lenguajes)"
      ],
      "metadata": {
        "colab": {
          "base_uri": "https://localhost:8080/"
        },
        "id": "1OSArSqv7pbX",
        "outputId": "97418d10-2da0-47e2-b6d8-c4584a4bc949"
      },
      "execution_count": null,
      "outputs": [
        {
          "output_type": "stream",
          "name": "stdout",
          "text": [
            "['python', 'c++', 'java', 'javascript', 'C#', 'Ruby']\n"
          ]
        }
      ]
    },
    {
      "cell_type": "code",
      "source": [
        "lista = [\"Cosa\", \"Casa\", \"Ala\"]\n",
        "lista.sort() #Nos permite ordenar de forma alfabetica o tambien puede ser con numeros\n",
        "print(lista)"
      ],
      "metadata": {
        "colab": {
          "base_uri": "https://localhost:8080/"
        },
        "id": "1Jmg04YC8wMY",
        "outputId": "5aff42f1-f3e4-4196-96e8-b212866f04b7"
      },
      "execution_count": null,
      "outputs": [
        {
          "output_type": "stream",
          "name": "stdout",
          "text": [
            "['Ala', 'Casa', 'Cosa']\n"
          ]
        }
      ]
    },
    {
      "cell_type": "markdown",
      "source": [
        "Para saber si un elemento se encuentra dentro de una lista **in**"
      ],
      "metadata": {
        "id": "lEnW_6N-9BgQ"
      }
    },
    {
      "cell_type": "code",
      "source": [
        "lenguajes =[\"Python\", \"Java\", \"JavaScript\"]\n",
        "print(\"Python\" in lenguajes)\n",
        "print(\"C++\" in lenguajes) #Nos devuelve un valor booleano donde analiza la cadena si existe el dato que se pide"
      ],
      "metadata": {
        "colab": {
          "base_uri": "https://localhost:8080/"
        },
        "id": "76_GnySV9ES_",
        "outputId": "0ebe680a-0edb-417f-ff4c-92f30db0ff42"
      },
      "execution_count": null,
      "outputs": [
        {
          "output_type": "stream",
          "name": "stdout",
          "text": [
            "True\n",
            "False\n"
          ]
        }
      ]
    },
    {
      "cell_type": "markdown",
      "source": [
        "# Recorrido de **Listas**"
      ],
      "metadata": {
        "id": "7ibRx1w99WKp"
      }
    },
    {
      "cell_type": "markdown",
      "source": [
        "Como las listas son objetos iterables a las que podemos recorrer un ciclo for"
      ],
      "metadata": {
        "id": "zZ3cymR_9bXh"
      }
    },
    {
      "cell_type": "code",
      "source": [
        "numeros = [1,2,3,4,5]\n",
        "print(numeros)\n",
        "for n in numeros:\n",
        "  print(n)"
      ],
      "metadata": {
        "colab": {
          "base_uri": "https://localhost:8080/"
        },
        "id": "xK0ef3Jd9ViA",
        "outputId": "cd7dafd0-ce4c-413e-f5d5-3fdb7c65acdd"
      },
      "execution_count": null,
      "outputs": [
        {
          "output_type": "stream",
          "name": "stdout",
          "text": [
            "[1, 2, 3, 4, 5]\n",
            "1\n",
            "2\n",
            "3\n",
            "4\n",
            "5\n"
          ]
        }
      ]
    },
    {
      "cell_type": "markdown",
      "source": [
        "Podemos recorrer la lista utilizando el modelo **len**"
      ],
      "metadata": {
        "id": "PWm9D8lW97dR"
      }
    },
    {
      "cell_type": "code",
      "source": [
        "mi_lista = [4,5,6,7]\n",
        "for indice in range(0, len(mi_lista)):\n",
        "  print(mi_lista[indice])"
      ],
      "metadata": {
        "colab": {
          "base_uri": "https://localhost:8080/"
        },
        "id": "bbStXMeE-Bsw",
        "outputId": "3dbbd9a2-00c4-4057-a8da-f14ca23e78d2"
      },
      "execution_count": null,
      "outputs": [
        {
          "output_type": "stream",
          "name": "stdout",
          "text": [
            "4\n",
            "5\n",
            "6\n",
            "7\n"
          ]
        }
      ]
    },
    {
      "cell_type": "markdown",
      "source": [
        "Podemos acceder al indice de cada elemnto a traves de la funcion **enumerante**"
      ],
      "metadata": {
        "id": "Qgr4cCHq-fOh"
      }
    },
    {
      "cell_type": "code",
      "source": [
        "numeros = [3,29,42,34,54]\n",
        "for x , y in enumerate(numeros):\n",
        "  print(f\"En la pocision x {x} ENCONTRAMOS EL VALOR: {y}\")"
      ],
      "metadata": {
        "colab": {
          "base_uri": "https://localhost:8080/"
        },
        "id": "jh6XLuTx-sCx",
        "outputId": "9dc14ffe-fe3f-4859-d716-1a95da58064f"
      },
      "execution_count": null,
      "outputs": [
        {
          "output_type": "stream",
          "name": "stdout",
          "text": [
            "En la pocision x 0 ENCONTRAMOS EL VALOR: 3\n",
            "En la pocision x 1 ENCONTRAMOS EL VALOR: 29\n",
            "En la pocision x 2 ENCONTRAMOS EL VALOR: 42\n",
            "En la pocision x 3 ENCONTRAMOS EL VALOR: 34\n",
            "En la pocision x 4 ENCONTRAMOS EL VALOR: 54\n"
          ]
        }
      ]
    },
    {
      "cell_type": "code",
      "source": [
        "letras = [\"A\", \"B\", \"C\", \"D\", \"E\"]\n",
        "for indice,valor in enumerate(letras):\n",
        "  print(f\"En la pocision x {indice} ENCONTRAMOS EL VALOR: {valor}\")"
      ],
      "metadata": {
        "colab": {
          "base_uri": "https://localhost:8080/"
        },
        "id": "kEOSNsF8_LAj",
        "outputId": "7860b72f-3518-4280-e89f-784ca5e24417"
      },
      "execution_count": null,
      "outputs": [
        {
          "output_type": "stream",
          "name": "stdout",
          "text": [
            "En la pocision x 0 ENCONTRAMOS EL VALOR: A\n",
            "En la pocision x 1 ENCONTRAMOS EL VALOR: B\n",
            "En la pocision x 2 ENCONTRAMOS EL VALOR: C\n",
            "En la pocision x 3 ENCONTRAMOS EL VALOR: D\n",
            "En la pocision x 4 ENCONTRAMOS EL VALOR: E\n"
          ]
        }
      ]
    },
    {
      "cell_type": "code",
      "source": [
        "lista = [2, 35, 76, 23]\n",
        "ind = 0\n",
        "while ind < len(lista):\n",
        "  print(lista[ind])\n",
        "  ind += 1"
      ],
      "metadata": {
        "colab": {
          "base_uri": "https://localhost:8080/"
        },
        "id": "E68zcmlA_xrp",
        "outputId": "9cc950eb-96ab-48e3-80d6-8dca695c9b6e"
      },
      "execution_count": null,
      "outputs": [
        {
          "output_type": "stream",
          "name": "stdout",
          "text": [
            "2\n",
            "35\n",
            "76\n",
            "23\n"
          ]
        }
      ]
    },
    {
      "cell_type": "markdown",
      "source": [
        "se cuentan con dos listas y se desean recorrer de manera simultanea mostrando el valor de las dos en cada posicion. ¿Ayudarias a terminara el codigo de tal manera que se obtenga el siguiente resultado?"
      ],
      "metadata": {
        "id": "w1SV5LwHBB3x"
      }
    },
    {
      "cell_type": "markdown",
      "source": [
        "ma-pa\n",
        "\n",
        "me-pe\n",
        "\n",
        "mi-pi\n",
        "\n",
        "mo-po\n",
        "\n",
        "mu-pu\n",
        "\n",
        "\n"
      ],
      "metadata": {
        "id": "Z89wziekBXWZ"
      }
    },
    {
      "cell_type": "code",
      "source": [
        "lista_ma = [\"ma\",\"me\",\"mi\",\"mo\",\"mu\"]\n",
        "lista_pa = [\"pa\",\"pe\",\"pi\",\"po\",\"pu\"]\n",
        "for indice, ma in enumerate(lista_ma):\n",
        "  pa = lista_pa[indice]\n",
        "  print(f\"{ma}-{pa}\")"
      ],
      "metadata": {
        "colab": {
          "base_uri": "https://localhost:8080/"
        },
        "id": "UdsQooa-BkqZ",
        "outputId": "daad5a8b-e847-4967-9bb4-7bff12248f32"
      },
      "execution_count": null,
      "outputs": [
        {
          "output_type": "stream",
          "name": "stdout",
          "text": [
            "ma-pa\n",
            "me-pe\n",
            "mi-pi\n",
            "mo-po\n",
            "mu-pu\n"
          ]
        }
      ]
    },
    {
      "cell_type": "code",
      "source": [
        "lista_ma = [\"ma\",\"me\",\"mi\",\"mo\",\"mu\"]\n",
        "lista_pa = [\"pa\",\"pe\",\"pi\",\"po\"]\n",
        "\n",
        "for i in range(min(len(lista_ma), len(lista_pa))):\n",
        "  print((lista_ma[i] + \"-\" + lista_pa[i]))"
      ],
      "metadata": {
        "colab": {
          "base_uri": "https://localhost:8080/"
        },
        "id": "MxjlTKbaDhIj",
        "outputId": "668c1eb3-6bcc-4b72-a684-c566d9bb3834"
      },
      "execution_count": null,
      "outputs": [
        {
          "output_type": "stream",
          "name": "stdout",
          "text": [
            "ma-pa\n",
            "me-pe\n",
            "mi-pi\n",
            "mo-po\n"
          ]
        }
      ]
    },
    {
      "cell_type": "code",
      "source": [
        "lista_ma = [\"ma\",\"me\",\"mi\",\"mo\",\"mu\"]\n",
        "lista_pa = [\"pa\",\"pe\",\"pi\",\"po\"]\n",
        "lista_pu = [\"pu\",\"pu\",\"pu\",\"pu\"\"pu\"]\n",
        "lista_ta = [\"ta\",\"te\",\"ti\",\"to\",\"tu\"]\n",
        "for x in zip(lista_ma,lista_pa,lista_pu,lista_ta):\n",
        "  print(x)"
      ],
      "metadata": {
        "id": "a5s84RwqEJvh"
      },
      "execution_count": null,
      "outputs": []
    },
    {
      "cell_type": "markdown",
      "source": [
        "con la funcion *ZIP* podemos iterar varias filas simultaneamnete"
      ],
      "metadata": {
        "id": "4NGs6ZduE2ac"
      }
    },
    {
      "cell_type": "markdown",
      "source": [
        "# METODOS APLICABLES A LISTAS"
      ],
      "metadata": {
        "id": "d8v8fqpuFAqh"
      }
    },
    {
      "cell_type": "markdown",
      "source": [
        "eL METODO **SORT()** QUE NO PERMITE ORDENAR LOS ELEMENTOS"
      ],
      "metadata": {
        "id": "8M_Kb7I2FFIx"
      }
    },
    {
      "cell_type": "code",
      "source": [
        "mi_lista = [5,10,8,3,1,52]\n",
        "mi_lista.sort()\n",
        "print(mi_lista)"
      ],
      "metadata": {
        "colab": {
          "base_uri": "https://localhost:8080/"
        },
        "id": "BOtHM8lcFVR7",
        "outputId": "3187e59f-a82c-429d-ccda-79bfa4c5c40e"
      },
      "execution_count": null,
      "outputs": [
        {
          "output_type": "stream",
          "name": "stdout",
          "text": [
            "[1, 3, 5, 8, 10, 52]\n"
          ]
        }
      ]
    },
    {
      "cell_type": "code",
      "source": [
        "mi_lista = [5,10,8,3,1,52]\n",
        "mi_lista.sort(reverse = True) #Ordena de forma descendente\n",
        "print(mi_lista)"
      ],
      "metadata": {
        "colab": {
          "base_uri": "https://localhost:8080/"
        },
        "id": "ifJ8Rj1cFlgd",
        "outputId": "f71ab8fb-3585-4487-981d-71a0f542df95"
      },
      "execution_count": null,
      "outputs": [
        {
          "output_type": "stream",
          "name": "stdout",
          "text": [
            "[52, 10, 8, 5, 3, 1]\n"
          ]
        }
      ]
    },
    {
      "cell_type": "markdown",
      "source": [
        "El metodo **remove()** resibe como argumento un objeto y lo borra de la lista"
      ],
      "metadata": {
        "id": "Xne450CcF0Ea"
      }
    },
    {
      "cell_type": "code",
      "source": [
        "lenguajes = [\"python\",\"Java\", \"Javascript\"]\n",
        "lenguajes.remove(\"Java\")\n",
        "print(lenguajes)"
      ],
      "metadata": {
        "colab": {
          "base_uri": "https://localhost:8080/"
        },
        "id": "sfUDRM0EFxXa",
        "outputId": "40515924-78f6-452a-dbf5-1eb7961c7c5a"
      },
      "execution_count": null,
      "outputs": [
        {
          "output_type": "stream",
          "name": "stdout",
          "text": [
            "['python', 'Javascript']\n"
          ]
        }
      ]
    },
    {
      "cell_type": "markdown",
      "source": [
        "si utilizo **del** debo utilizar la posicion para eliminar un elemento, si utilizo **remove** puedo utilizar directamente el elemento que voy borrar"
      ],
      "metadata": {
        "id": "Xx0YrhtFGHkp"
      }
    },
    {
      "cell_type": "code",
      "source": [
        "lenguajes = [\"python\",\"Java\", \"Javascript\"]\n",
        "del lenguajes[1]\n",
        "print(lenguajes)"
      ],
      "metadata": {
        "colab": {
          "base_uri": "https://localhost:8080/"
        },
        "id": "t9it_WnMGWNS",
        "outputId": "244921c8-749f-4ed8-8571-e8c9fb6f0d2e"
      },
      "execution_count": null,
      "outputs": [
        {
          "output_type": "stream",
          "name": "stdout",
          "text": [
            "['python', 'Javascript']\n"
          ]
        }
      ]
    },
    {
      "cell_type": "markdown",
      "source": [
        "El metodo **reverse()** invierte el contenido de la lista"
      ],
      "metadata": {
        "id": "IWSbLCkDGcXR"
      }
    },
    {
      "cell_type": "code",
      "source": [
        "lenguajes = [\"python\",\"Java\", \"Javascript\"]\n",
        "lenguajes.reverse()\n",
        "print(lenguajes)"
      ],
      "metadata": {
        "colab": {
          "base_uri": "https://localhost:8080/"
        },
        "id": "9S2MRFfdGmlh",
        "outputId": "781a117d-d897-41fc-9303-5b1714eddd48"
      },
      "execution_count": null,
      "outputs": [
        {
          "output_type": "stream",
          "name": "stdout",
          "text": [
            "['Javascript', 'Java', 'python']\n"
          ]
        }
      ]
    },
    {
      "cell_type": "code",
      "source": [
        "cadena = \"HOLA MUNDO SENA\"\n",
        "print (cadena[::-1])#Nos permite invertir cadenas"
      ],
      "metadata": {
        "colab": {
          "base_uri": "https://localhost:8080/"
        },
        "id": "g_cYkCI8Gl2C",
        "outputId": "41b8bdbd-bf02-4371-b603-16eb259f6789"
      },
      "execution_count": null,
      "outputs": [
        {
          "output_type": "stream",
          "name": "stdout",
          "text": [
            "ANES ODNUM ALOH\n"
          ]
        }
      ]
    },
    {
      "cell_type": "code",
      "source": [
        "cadena = \"HOLA MUNDO SENA\"\n",
        "lista = list(cadena) #Lo podemos usar para imprimirlo en una lista.\n",
        "print(lista)\n",
        "lista.reverse()\n",
        "print(lista)\n",
        "cadena = \"\".join(lista) #Lo podemos usar para imprimirlo en una sola cadena.\n",
        "print(cadena)"
      ],
      "metadata": {
        "colab": {
          "base_uri": "https://localhost:8080/"
        },
        "id": "Twe0Y1N5Gzly",
        "outputId": "9e2bf4cd-d7f1-45f1-ef2b-cd1d754d1331"
      },
      "execution_count": null,
      "outputs": [
        {
          "output_type": "stream",
          "name": "stdout",
          "text": [
            "['H', 'O', 'L', 'A', ' ', 'M', 'U', 'N', 'D', 'O', ' ', 'S', 'E', 'N', 'A']\n",
            "['A', 'N', 'E', 'S', ' ', 'O', 'D', 'N', 'U', 'M', ' ', 'A', 'L', 'O', 'H']\n",
            "ANES ODNUM ALOH\n"
          ]
        }
      ]
    },
    {
      "cell_type": "markdown",
      "source": [
        "**Otros métodos para listas**"
      ],
      "metadata": {
        "id": "TGPPVhhSHTua"
      }
    },
    {
      "cell_type": "markdown",
      "source": [
        "clear()\n",
        "Vacia todos los items de una lista:\n",
        "lista.clear()\n",
        "[]\n",
        "\n",
        "extend()\n",
        "Une una lista a otra:\n",
        "l1 = [1,2,3]\n",
        "l2 =\n",
        "l1\n"
      ],
      "metadata": {
        "id": "4Hpd08ETHfSy"
      }
    },
    {
      "cell_type": "markdown",
      "source": [
        "# Tuplas"
      ],
      "metadata": {
        "id": "nWm3cEjGIDvi"
      }
    },
    {
      "cell_type": "markdown",
      "source": [
        "**Generalidades**"
      ],
      "metadata": {
        "id": "p8V0S1dcIH5i"
      }
    },
    {
      "cell_type": "code",
      "source": [
        "mi_tupla = (\"a\",\"b\",\"c\",\"d\")\n",
        "print(type(mi_tupla))\n",
        "print(mi_tupla[1])\n",
        "print(mi_tupla[1:3])\n",
        "print(mi_tupla[:-1])"
      ],
      "metadata": {
        "colab": {
          "base_uri": "https://localhost:8080/"
        },
        "id": "v8THxqibIKL7",
        "outputId": "09005f6b-642d-455f-d20c-68054d462ed3"
      },
      "execution_count": null,
      "outputs": [
        {
          "output_type": "stream",
          "name": "stdout",
          "text": [
            "<class 'tuple'>\n",
            "b\n",
            "('b', 'c')\n",
            "('a', 'b', 'c')\n"
          ]
        }
      ]
    },
    {
      "cell_type": "code",
      "source": [
        "mi_tupla = (\"a\",\"b\",\"c\",\"d\")\n",
        "mi_tupla [0] = \"z\"\n",
        "print(mi_tupla)"
      ],
      "metadata": {
        "colab": {
          "base_uri": "https://localhost:8080/",
          "height": 176
        },
        "id": "ojbKXQ67I9kl",
        "outputId": "d9401c01-df0a-4d90-fb80-7911726ac135"
      },
      "execution_count": null,
      "outputs": [
        {
          "output_type": "error",
          "ename": "TypeError",
          "evalue": "'tuple' object does not support item assignment",
          "traceback": [
            "\u001b[0;31m---------------------------------------------------------------------------\u001b[0m",
            "\u001b[0;31mTypeError\u001b[0m                                 Traceback (most recent call last)",
            "\u001b[0;32m<ipython-input-87-233687910b4d>\u001b[0m in \u001b[0;36m<cell line: 0>\u001b[0;34m()\u001b[0m\n\u001b[1;32m      1\u001b[0m \u001b[0mmi_tupla\u001b[0m \u001b[0;34m=\u001b[0m \u001b[0;34m(\u001b[0m\u001b[0;34m\"a\"\u001b[0m\u001b[0;34m,\u001b[0m\u001b[0;34m\"b\"\u001b[0m\u001b[0;34m,\u001b[0m\u001b[0;34m\"c\"\u001b[0m\u001b[0;34m,\u001b[0m\u001b[0;34m\"d\"\u001b[0m\u001b[0;34m)\u001b[0m\u001b[0;34m\u001b[0m\u001b[0;34m\u001b[0m\u001b[0m\n\u001b[0;32m----> 2\u001b[0;31m \u001b[0mmi_tupla\u001b[0m \u001b[0;34m[\u001b[0m\u001b[0;36m0\u001b[0m\u001b[0;34m]\u001b[0m \u001b[0;34m=\u001b[0m \u001b[0;34m\"z\"\u001b[0m\u001b[0;34m\u001b[0m\u001b[0;34m\u001b[0m\u001b[0m\n\u001b[0m\u001b[1;32m      3\u001b[0m \u001b[0mprint\u001b[0m\u001b[0;34m(\u001b[0m\u001b[0mmi_tupla\u001b[0m\u001b[0;34m)\u001b[0m\u001b[0;34m\u001b[0m\u001b[0;34m\u001b[0m\u001b[0m\n",
            "\u001b[0;31mTypeError\u001b[0m: 'tuple' object does not support item assignment"
          ]
        }
      ]
    },
    {
      "cell_type": "code",
      "source": [
        "mi_tupla = (10, \"hola\", [1,2,3], -50)\n",
        "print(mi_tupla[2][-1])\n",
        "mi_tupla = (100, \"hola\", (1,(200, 'D', [\"x\", \"y\",\"z\" ])),(1,2,3), -50)\n",
        "print(mi_tupla[2][1][2][-2])"
      ],
      "metadata": {
        "colab": {
          "base_uri": "https://localhost:8080/"
        },
        "id": "XdzSLxgyJxW8",
        "outputId": "39bfcae8-721a-4803-8f96-efeec4bdf3ed"
      },
      "execution_count": null,
      "outputs": [
        {
          "output_type": "stream",
          "name": "stdout",
          "text": [
            "3\n",
            "y\n"
          ]
        }
      ]
    },
    {
      "cell_type": "code",
      "source": [
        "mi_tupla = (1,2,3,4,5,6,7,8,9,45,67,58,768,435)\n",
        "print(mi_tupla.count(2))"
      ],
      "metadata": {
        "colab": {
          "base_uri": "https://localhost:8080/"
        },
        "id": "69jwqmVbMVT4",
        "outputId": "f4029e67-6ca4-47ec-e7a0-bfe90ba0b486"
      },
      "execution_count": null,
      "outputs": [
        {
          "output_type": "stream",
          "name": "stdout",
          "text": [
            "1\n"
          ]
        }
      ]
    },
    {
      "cell_type": "code",
      "source": [
        "mi_tupla = (1,2,3,4,5,6,7,8,9,45,67,58,768,435)\n",
        "mi_tupla.sort()\n",
        "print(mi_tupla)"
      ],
      "metadata": {
        "colab": {
          "base_uri": "https://localhost:8080/",
          "height": 176
        },
        "id": "XI7mOKQmMsB9",
        "outputId": "246b80c9-2f3f-4c08-abe2-a6851d97046b"
      },
      "execution_count": null,
      "outputs": [
        {
          "output_type": "error",
          "ename": "AttributeError",
          "evalue": "'tuple' object has no attribute 'sort'",
          "traceback": [
            "\u001b[0;31m---------------------------------------------------------------------------\u001b[0m",
            "\u001b[0;31mAttributeError\u001b[0m                            Traceback (most recent call last)",
            "\u001b[0;32m<ipython-input-101-88732111a12b>\u001b[0m in \u001b[0;36m<cell line: 0>\u001b[0;34m()\u001b[0m\n\u001b[1;32m      1\u001b[0m \u001b[0mmi_tupla\u001b[0m \u001b[0;34m=\u001b[0m \u001b[0;34m(\u001b[0m\u001b[0;36m1\u001b[0m\u001b[0;34m,\u001b[0m\u001b[0;36m2\u001b[0m\u001b[0;34m,\u001b[0m\u001b[0;36m3\u001b[0m\u001b[0;34m,\u001b[0m\u001b[0;36m4\u001b[0m\u001b[0;34m,\u001b[0m\u001b[0;36m5\u001b[0m\u001b[0;34m,\u001b[0m\u001b[0;36m6\u001b[0m\u001b[0;34m,\u001b[0m\u001b[0;36m7\u001b[0m\u001b[0;34m,\u001b[0m\u001b[0;36m8\u001b[0m\u001b[0;34m,\u001b[0m\u001b[0;36m9\u001b[0m\u001b[0;34m,\u001b[0m\u001b[0;36m45\u001b[0m\u001b[0;34m,\u001b[0m\u001b[0;36m67\u001b[0m\u001b[0;34m,\u001b[0m\u001b[0;36m58\u001b[0m\u001b[0;34m,\u001b[0m\u001b[0;36m768\u001b[0m\u001b[0;34m,\u001b[0m\u001b[0;36m435\u001b[0m\u001b[0;34m)\u001b[0m\u001b[0;34m\u001b[0m\u001b[0;34m\u001b[0m\u001b[0m\n\u001b[0;32m----> 2\u001b[0;31m \u001b[0mmi_tupla\u001b[0m\u001b[0;34m.\u001b[0m\u001b[0msort\u001b[0m\u001b[0;34m(\u001b[0m\u001b[0;34m)\u001b[0m\u001b[0;34m\u001b[0m\u001b[0;34m\u001b[0m\u001b[0m\n\u001b[0m\u001b[1;32m      3\u001b[0m \u001b[0mprint\u001b[0m\u001b[0;34m(\u001b[0m\u001b[0mmi_tupla\u001b[0m\u001b[0;34m)\u001b[0m\u001b[0;34m\u001b[0m\u001b[0;34m\u001b[0m\u001b[0m\n",
            "\u001b[0;31mAttributeError\u001b[0m: 'tuple' object has no attribute 'sort'"
          ]
        }
      ]
    },
    {
      "cell_type": "code",
      "source": [
        "mi_tupla = tuple(\"amoamimama\")\n",
        "print(mi_tupla)"
      ],
      "metadata": {
        "colab": {
          "base_uri": "https://localhost:8080/"
        },
        "id": "wRFB362IM33j",
        "outputId": "0a694687-5429-46e7-8a97-810d8d6136c7"
      },
      "execution_count": null,
      "outputs": [
        {
          "output_type": "stream",
          "name": "stdout",
          "text": [
            "('a', 'm', 'o', 'a', 'm', 'i', 'm', 'a', 'm', 'a')\n"
          ]
        }
      ]
    },
    {
      "cell_type": "code",
      "source": [
        "mi_tupla = tuple (input (\"INGRESE UNA FRASE\"))\n",
        "print(mi_tupla)\n",
        "print(f\"La cantidad dfe elementos que tiene la tupla es:{len(mi_tupla)}\")\n",
        "for dato in mi_tupla:\n",
        "  print(dato)"
      ],
      "metadata": {
        "colab": {
          "base_uri": "https://localhost:8080/"
        },
        "id": "2UxpgD_LNAMK",
        "outputId": "b3573402-5091-46a1-902a-3e25b449cda7"
      },
      "execution_count": null,
      "outputs": [
        {
          "output_type": "stream",
          "name": "stdout",
          "text": [
            "INGRESE UNA FRASEjgsakd,fs\n",
            "('j', 'g', 's', 'a', 'k', 'd', ',', 'f', 's')\n",
            "La cantidad dfe elementos que tiene la tupla es:9\n",
            "j\n",
            "g\n",
            "s\n",
            "a\n",
            "k\n",
            "d\n",
            ",\n",
            "f\n",
            "s\n"
          ]
        }
      ]
    },
    {
      "cell_type": "markdown",
      "source": [
        "# Paso de tupla a lista y de lista a tupla"
      ],
      "metadata": {
        "id": "O3NN2sxSNmUK"
      }
    },
    {
      "cell_type": "markdown",
      "source": [
        "de lista a tupla"
      ],
      "metadata": {
        "id": "85mhJorkNreC"
      }
    },
    {
      "cell_type": "code",
      "source": [
        "mi_lista = [1,2,3,4,5]\n",
        "mi_tupla = tuple(mi_lista)\n",
        "print(mi_tupla)"
      ],
      "metadata": {
        "colab": {
          "base_uri": "https://localhost:8080/"
        },
        "id": "oVJMl-XnNadq",
        "outputId": "6aae4547-2c2d-4743-c047-88c6a476f4f1"
      },
      "execution_count": null,
      "outputs": [
        {
          "output_type": "stream",
          "name": "stdout",
          "text": [
            "(1, 2, 3, 4, 5)\n"
          ]
        }
      ]
    },
    {
      "cell_type": "code",
      "source": [
        "mi_tupla = (1,2,3,4,5)\n",
        "mi_lista = list(mi_tupla)\n",
        "print(mi_lista)"
      ],
      "metadata": {
        "colab": {
          "base_uri": "https://localhost:8080/"
        },
        "id": "6_bovQquN1Zk",
        "outputId": "ecd6d378-0966-4916-d7cd-d6a0792f1790"
      },
      "execution_count": null,
      "outputs": [
        {
          "output_type": "stream",
          "name": "stdout",
          "text": [
            "[1, 2, 3, 4, 5]\n"
          ]
        }
      ]
    },
    {
      "cell_type": "code",
      "source": [
        "mi_tupla = (3,4,5,6,26,74,36,10,46,3)\n",
        "mi_lista = list(mi_tupla)\n",
        "mi_lista.sort()\n",
        "mi_tupla = tuple(mi_lista)\n",
        "print(mi_tupla)"
      ],
      "metadata": {
        "colab": {
          "base_uri": "https://localhost:8080/"
        },
        "id": "0Pn4-Xb5N4zz",
        "outputId": "57daaee6-2aa6-493c-9b37-c989a56ed437"
      },
      "execution_count": null,
      "outputs": [
        {
          "output_type": "stream",
          "name": "stdout",
          "text": [
            "(3, 3, 4, 5, 6, 10, 26, 36, 46, 74)\n"
          ]
        }
      ]
    },
    {
      "cell_type": "markdown",
      "source": [
        "# APROPIACION\n",
        "Pregunte al usuario cuántos elementos desea ingresar en una lista, luego solicite cada uno de ellos y presente el contenido de la lista y su contenido invertido.\n",
        "\n",
        "Crear una lista de números y solicitar un número. Borrar de la lista ese número en todas las posiciones donde se encuentre. Presentar la lista final\n",
        "\n",
        "\n",
        "Solicite al usuario dos(2) frases y devuelva una lista con todas las letras que se repiten en la misma posición de ambas listas\n",
        "ejemplo: frase1: \"holasena\" frase2: \"todogana\" salida: [\"o\",\"n\", \"a\"]"
      ],
      "metadata": {
        "id": "YYWl-bUebiho"
      }
    },
    {
      "cell_type": "code",
      "source": [
        "num_elementos = int(input(\"¿Cuántos elementos desea ingresar en la lista? \")) #Primero solicitamos la cantidad de elementos que desea ingresar a la lista el usuario\n",
        "\n",
        "\n",
        "mi_lista = [] #Creamos una lista vacia donde guardaremos los elementos que el usuario ingrese\n",
        "\n",
        "for _ in range(num_elementos): #Usamos el simbolo de _ porque no necesitamos usar el valor que ingresamos en el contador del ciclo, sino que queremos que se repita un numero de veces.\n",
        "    elemento = input(\"Ingrese un elemento: \")\n",
        "    mi_lista.append(elemento) #Usamos append para que el elemento que el usuario ingrese sea añadido a la lista\n",
        "\n",
        "print(\"Lista :\", mi_lista)\n",
        "\n",
        "lista_invertida = mi_lista[::-1] #Invertimos la lista\n",
        "\n",
        "print(\"Lista invertida:\", lista_invertida)"
      ],
      "metadata": {
        "colab": {
          "base_uri": "https://localhost:8080/"
        },
        "id": "QDsTgl8qcIRm",
        "outputId": "eb302224-2d2b-4606-edcb-a7654a95ae76"
      },
      "execution_count": null,
      "outputs": [
        {
          "output_type": "stream",
          "name": "stdout",
          "text": [
            "¿Cuántos elementos desea ingresar en la lista? 2\n",
            "Ingrese un elemento: hol\n",
            "Ingrese un elemento: kj\n",
            "Lista : ['hol', 'kj']\n",
            "Lista invertida: ['kj', 'hol']\n"
          ]
        }
      ]
    },
    {
      "cell_type": "code",
      "source": [
        "lista = [1,2,3,4,5,4,2,9,5,4,3,6,7,1,2,3,4,5,9,30,45,30,2,4,3,5,1,2,6,7,8,7,6,4,1,2,3,6,7,2]\n",
        "for x in lista:\n",
        "  if x == 2:\n",
        "    lista.remove(x)\n",
        "print(lista)\n"
      ],
      "metadata": {
        "colab": {
          "base_uri": "https://localhost:8080/"
        },
        "id": "1dY_sdlpfW3A",
        "outputId": "d116451b-5788-4292-a607-fe9c100bc6f8"
      },
      "execution_count": null,
      "outputs": [
        {
          "output_type": "stream",
          "name": "stdout",
          "text": [
            "[1, 3, 4, 5, 4, 9, 5, 4, 3, 6, 7, 1, 3, 4, 5, 9, 30, 45, 30, 4, 3, 5, 1, 6, 7, 8, 7, 6, 4, 1, 3, 6, 7]\n"
          ]
        }
      ]
    },
    {
      "cell_type": "code",
      "source": [
        "frase_1 = input(\"Ingrese una frase: \")\n",
        "frase_2 = input(\"Ingrese una frase: \")\n",
        "letras_repetidas = []\n",
        "\n",
        "for comparar in range(min(len(frase_1), len(frase_2))):\n",
        "  if frase_1[comparar] == frase_2[comparar]:\n",
        "    letras_repetidas.append(frase_1[comparar])\n",
        "  print(\"Las letras repetidas de ambas frases son : \", letras_repetidas)\n"
      ],
      "metadata": {
        "colab": {
          "base_uri": "https://localhost:8080/"
        },
        "id": "sNM8tx_gjRHh",
        "outputId": "4e67247d-4b12-406b-d69e-c86e3eb0dc9d"
      },
      "execution_count": null,
      "outputs": [
        {
          "output_type": "stream",
          "name": "stdout",
          "text": [
            "Ingrese una frase: josefa\n",
            "Ingrese una frase: josefu\n",
            "Las letras repetidas de ambas frases son :  ['j']\n",
            "Las letras repetidas de ambas frases son :  ['j', 'o']\n",
            "Las letras repetidas de ambas frases son :  ['j', 'o', 's']\n",
            "Las letras repetidas de ambas frases son :  ['j', 'o', 's', 'e']\n",
            "Las letras repetidas de ambas frases son :  ['j', 'o', 's', 'e', 'f']\n",
            "Las letras repetidas de ambas frases son :  ['j', 'o', 's', 'e', 'f']\n"
          ]
        }
      ]
    }
  ]
}