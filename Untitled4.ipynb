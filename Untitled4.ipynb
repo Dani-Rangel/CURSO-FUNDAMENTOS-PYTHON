{
  "cells": [
    {
      "cell_type": "code",
      "execution_count": null,
      "metadata": {
        "colab": {
          "base_uri": "https://localhost:8080/"
        },
        "id": "75U5KKR_-Y2v",
        "outputId": "0605bf1e-862a-4cf2-bb63-2e32ff496dca"
      },
      "outputs": [
        {
          "name": "stdout",
          "output_type": "stream",
          "text": [
            "ingrese su estado de motor(encendido/apagado)encendido\n",
            "ingrese la temperatura del motor70\n",
            "el motor sigue encendido\n"
          ]
        }
      ],
      "source": [
        "estado_del_motor = input(\"ingrese su estado de motor(encendido/apagado)\")\n",
        "temperatura_del_motor = int(input(\"ingrese la temperatura del motor\"))\n",
        "if temperatura_del_motor > 80 and estado_del_motor == \"encendido\":\n",
        "    print(\"se apaga motor\")\n",
        "elif temperatura_del_motor < 80 and estado_del_motor == \"encendido\":\n",
        "    print(\"el motor sigue encendido\")\n",
        "else:\n",
        "    print(\"no se hace nada\")"
      ]
    },
    {
      "cell_type": "code",
      "execution_count": null,
      "metadata": {
        "colab": {
          "base_uri": "https://localhost:8080/"
        },
        "id": "THhKxb0HApcb",
        "outputId": "308e2010-e464-4889-f1d9-73100c845e4c"
      },
      "outputs": [
        {
          "name": "stdout",
          "output_type": "stream",
          "text": [
            "ingrese su estrato1\n",
            "ingrese su edad18\n",
            "ingrese el valor de su matricula6000000\n",
            "el descuento sera del 20%: 4800000.0\n"
          ]
        }
      ],
      "source": [
        "estrato = int(input(\"ingrese su estrato\"))\n",
        "edad = int(input(\"ingrese su edad\"))\n",
        "valor_matricula = int(input(\"ingrese el valor de su matricula\"))\n",
        "valor_descuento_20 = ((valor_matricula) - (valor_matricula )* 0.20)\n",
        "valor_descuento_15 = ((valor_matricula) - (valor_matricula )* 0.15 )\n",
        "valor_descuento_10 = ((valor_matricula) - (valor_matricula )* 0.10 )\n",
        "valor_descuento_5 = ((valor_matricula) - (valor_matricula )* 0.5)\n",
        "if estrato == 1 and edad <= 18:\n",
        "    print(f\"el descuento sera del 20%: {valor_descuento_20}\")\n",
        "elif estrato == 1 and edad >= 18:\n",
        "    print(f\"el descuento sera del 15%: {valor_descuento_15} \" )\n",
        "elif estrato == 2 and edad <= 18:\n",
        "    print(f\"el descuento sera del 10%: {valor_descuento_10} \")\n",
        "elif estrato == 2 and edad >= 18:\n",
        "    print(f\"el descuento sera del 5%: {valor_descuento_5} \" )\n",
        "else:\n",
        "    print(\"no hay descuento\")\n",
        "\n",
        "\n",
        "\n"
      ]
    },
    {
      "cell_type": "code",
      "execution_count": null,
      "metadata": {
        "colab": {
          "base_uri": "https://localhost:8080/"
        },
        "id": "jBgyppbvH5mx",
        "outputId": "de85e569-8219-4e4f-a29b-a128f2eb7303"
      },
      "outputs": [
        {
          "name": "stdout",
          "output_type": "stream",
          "text": [
            "ingrese la calidad de la pieza(1s estandares de calidad cumplidos/0s estandares de calidad no cumplidos)01\n"
          ]
        }
      ],
      "source": [
        "calidad = int(input(\"ingrese la calidad de la pieza(1s estandares de calidad cumplidos/0s estandares de calidad no cumplidos)\"))\n",
        "if  calidad == 1111:\n",
        "    print(\"la pieza cumple con los estandares\")\n",
        "elif calidad == 1111:\n",
        "      print(\"la pieza cumple con los estandares\")\n",
        "elif calidad == 0000:\n",
        "    print(\"la pieza no cumple con los estandares\")"
      ]
    },
    {
      "cell_type": "markdown",
      "metadata": {
        "id": "wYcepo-deVaQ"
      },
      "source": [
        "# **Lo** **ciclos**"
      ]
    },
    {
      "cell_type": "markdown",
      "metadata": {
        "id": "18Cea28ueZO_"
      },
      "source": [
        "El ciclo while"
      ]
    },
    {
      "cell_type": "code",
      "execution_count": null,
      "metadata": {
        "id": "PfpPDqM4eiu7"
      },
      "outputs": [],
      "source": [
        "while condicion:\n",
        "      Codigo\n",
        "      codigo\n"
      ]
    },
    {
      "cell_type": "code",
      "execution_count": null,
      "metadata": {
        "colab": {
          "base_uri": "https://localhost:8080/"
        },
        "id": "b_4-De_6euxv",
        "outputId": "4bce675a-b907-4cfb-d30e-effc2ea87fa9"
      },
      "outputs": [
        {
          "name": "stdout",
          "output_type": "stream",
          "text": [
            "1\n",
            "2\n",
            "3\n",
            "4\n",
            "5\n"
          ]
        }
      ],
      "source": [
        "x=1\n",
        "while x <= 5:\n",
        "  print(x)\n",
        "  x+= 1"
      ]
    },
    {
      "cell_type": "code",
      "execution_count": null,
      "metadata": {
        "colab": {
          "base_uri": "https://localhost:8080/"
        },
        "id": "Hv2MARwff-yv",
        "outputId": "783eacfe-3c53-43b1-82b4-17b951e9f1b9"
      },
      "outputs": [
        {
          "name": "stdout",
          "output_type": "stream",
          "text": [
            "ingrese el color: azul\n",
            "el color seleccionado fue: azul\n",
            "ingrese el color: verde\n",
            "el color seleccionado fue: verde\n"
          ]
        }
      ],
      "source": [
        "color = \"rojo\"\n",
        "while color !=\"verde\":\n",
        "  color= input(\"ingrese el color: \")\n",
        "  print(\"el color seleccionado fue:\",color)"
      ]
    },
    {
      "cell_type": "markdown",
      "metadata": {
        "id": "uJK2GQpxgT-7"
      },
      "source": [
        "# **El ciclo for**"
      ]
    },
    {
      "cell_type": "code",
      "execution_count": null,
      "metadata": {
        "id": "tfbqF-QfgSv_"
      },
      "outputs": [],
      "source": [
        "for variable in iterable:\n",
        "  codigo\n",
        "  codigo"
      ]
    },
    {
      "cell_type": "code",
      "execution_count": null,
      "metadata": {
        "colab": {
          "base_uri": "https://localhost:8080/"
        },
        "id": "2UMtZdMhgbkv",
        "outputId": "cc9a13a6-594f-4e1e-b7e5-c47b13637506"
      },
      "outputs": [
        {
          "name": "stdout",
          "output_type": "stream",
          "text": [
            "1\n",
            "23\n",
            "5\n",
            "80.3\n",
            "casa\n",
            "2.4\n",
            "sena\n",
            "21\n"
          ]
        }
      ],
      "source": [
        "cad = [1,23,5,80.3, \"casa\", 2.4, \"sena\", 21]\n",
        "for x in cad:\n",
        "  print(x)"
      ]
    },
    {
      "cell_type": "code",
      "execution_count": null,
      "metadata": {
        "colab": {
          "base_uri": "https://localhost:8080/"
        },
        "id": "9xnI9AWhg1Gf",
        "outputId": "0ea5be88-975b-4b53-e2e1-275a3f70cf21"
      },
      "outputs": [
        {
          "name": "stdout",
          "output_type": "stream",
          "text": [
            "hola 1\n",
            "hola 2\n",
            "hola 3\n",
            "hola 4\n",
            "hola 5\n"
          ]
        }
      ],
      "source": [
        "for x in range(5):\n",
        "  print(\"hola\", x+1)"
      ]
    },
    {
      "cell_type": "code",
      "execution_count": null,
      "metadata": {
        "colab": {
          "base_uri": "https://localhost:8080/"
        },
        "id": "OMYZ1wq3hXS3",
        "outputId": "0ad993b4-2594-4175-dc92-6783635ca824"
      },
      "outputs": [
        {
          "name": "stdout",
          "output_type": "stream",
          "text": [
            "1\n",
            "3\n",
            "5\n",
            "7\n",
            "9\n"
          ]
        }
      ],
      "source": [
        "for x in range(1,11,2):\n",
        "  print(x)"
      ]
    },
    {
      "cell_type": "code",
      "execution_count": null,
      "metadata": {
        "colab": {
          "base_uri": "https://localhost:8080/"
        },
        "id": "Q5c_R6PUhg9O",
        "outputId": "3afb84d2-04c7-4f16-a50c-e7aacfb7b698"
      },
      "outputs": [
        {
          "name": "stdout",
          "output_type": "stream",
          "text": [
            "hola 0\n",
            "hola 1\n",
            "hola 2\n",
            "hola 3\n",
            "hola 4\n"
          ]
        }
      ],
      "source": [
        "for x in range(0,5,1):\n",
        "  print(\"hola\", x)"
      ]
    },
    {
      "cell_type": "code",
      "execution_count": null,
      "metadata": {
        "colab": {
          "base_uri": "https://localhost:8080/"
        },
        "id": "jp8lOoejhybW",
        "outputId": "a76189b8-f11f-4797-e0ca-56a6a3cab5aa"
      },
      "outputs": [
        {
          "name": "stdout",
          "output_type": "stream",
          "text": [
            "0\n",
            "1\n",
            "2\n",
            "3\n",
            "4\n",
            "5\n",
            "6\n",
            "7\n",
            "8\n",
            "9\n"
          ]
        }
      ],
      "source": [
        "for x in range(10):\n",
        "  print(x)"
      ]
    },
    {
      "cell_type": "code",
      "execution_count": null,
      "metadata": {
        "colab": {
          "base_uri": "https://localhost:8080/"
        },
        "id": "97AmjeLRh6Gu",
        "outputId": "97ca170e-2851-4135-9e77-beb33e8b95e7"
      },
      "outputs": [
        {
          "name": "stdout",
          "output_type": "stream",
          "text": [
            "9\n",
            "8\n",
            "7\n",
            "6\n",
            "5\n",
            "4\n",
            "3\n",
            "2\n",
            "1\n"
          ]
        }
      ],
      "source": [
        "for x in range(9,0,-1):\n",
        "  print(x)"
      ]
    },
    {
      "cell_type": "code",
      "execution_count": null,
      "metadata": {
        "colab": {
          "base_uri": "https://localhost:8080/"
        },
        "id": "c7An4S-GiKkG",
        "outputId": "f2d890ca-60ed-41b3-cdde-a713242a05ed"
      },
      "outputs": [
        {
          "name": "stdout",
          "output_type": "stream",
          "text": [
            "3\n",
            "6\n",
            "9\n",
            "12\n",
            "15\n",
            "18\n",
            "21\n",
            "24\n",
            "27\n",
            "30\n",
            "33\n",
            "36\n",
            "39\n",
            "42\n",
            "45\n",
            "48\n",
            "51\n",
            "54\n",
            "57\n",
            "60\n",
            "63\n",
            "66\n",
            "69\n",
            "72\n",
            "75\n",
            "78\n",
            "81\n",
            "84\n",
            "87\n",
            "90\n",
            "93\n",
            "96\n",
            "99\n"
          ]
        }
      ],
      "source": [
        "for x in range(3, 100, 3):\n",
        "  print(x)"
      ]
    },
    {
      "cell_type": "code",
      "execution_count": null,
      "metadata": {
        "colab": {
          "base_uri": "https://localhost:8080/"
        },
        "id": "ocs-XrBziVOO",
        "outputId": "efaa5c51-40a5-4e69-e580-60dc4fd9281c"
      },
      "outputs": [
        {
          "name": "stdout",
          "output_type": "stream",
          "text": [
            "ingrese su nombre:daniel\n",
            "1\n",
            "3\n",
            "5\n"
          ]
        }
      ],
      "source": [
        "nombre = input(\"ingrese su nombre:\")\n",
        "for x in range(1, len(nombre),2):\n",
        "  print(x)\n"
      ]
    },
    {
      "cell_type": "markdown",
      "metadata": {
        "id": "YwZxSYNDi-VD"
      },
      "source": [
        "# **break y continue**"
      ]
    },
    {
      "cell_type": "code",
      "execution_count": null,
      "metadata": {
        "colab": {
          "base_uri": "https://localhost:8080/"
        },
        "id": "sESMkjsMjFcC",
        "outputId": "85feb27f-c08e-41b0-d851-281fd6bfa27f"
      },
      "outputs": [
        {
          "name": "stdout",
          "output_type": "stream",
          "text": [
            "la instrucion break: \n",
            "dentro del ciclo 1\n",
            "dentro del ciclo 2\n",
            "fuera del ciclo\n"
          ]
        }
      ],
      "source": [
        "print(\"la instrucion break: \")\n",
        "for i in range(1,6):\n",
        "  if i == 3:\n",
        "    break\n",
        "  print(\"dentro del ciclo\", i)\n",
        "print(\"fuera del ciclo\")"
      ]
    },
    {
      "cell_type": "code",
      "execution_count": null,
      "metadata": {
        "colab": {
          "base_uri": "https://localhost:8080/"
        },
        "id": "yshPqwsTklMX",
        "outputId": "4692ee94-1f9c-44f2-e1a9-e79f3a8bb741"
      },
      "outputs": [
        {
          "name": "stdout",
          "output_type": "stream",
          "text": [
            "la instrucion continue: \n",
            "dentro del ciclo 1\n",
            "dentro del ciclo 2\n",
            "dentro del ciclo 4\n",
            "dentro del ciclo 5\n",
            "fuera del ciclo\n"
          ]
        }
      ],
      "source": [
        "print(\"la instrucion continue: \")\n",
        "for i in range(1,6):\n",
        "  if i == 3:\n",
        "    continue\n",
        "  print(\"dentro del ciclo\", i)\n",
        "print(\"fuera del ciclo\")"
      ]
    },
    {
      "cell_type": "markdown",
      "metadata": {
        "id": "0iDak5Y0mP8-"
      },
      "source": []
    },
    {
      "cell_type": "markdown",
      "metadata": {
        "id": "TqV6hd6Xkvw6"
      },
      "source": [
        "# **ejercicios de apropiacion**"
      ]
    },
    {
      "cell_type": "markdown",
      "metadata": {
        "id": "danzZ5-fmhjm"
      },
      "source": [
        "Leer un número y presentar la tabla de multiplicar de ese número entre 1 y 10. Utilizar el siguiente formato de ejemplo:**texto en negrita**"
      ]
    },
    {
      "cell_type": "code",
      "execution_count": null,
      "metadata": {
        "id": "EKzYq_nUmQmV"
      },
      "outputs": [],
      "source": [
        "1 x 1 = 1\n",
        "1 x 2 = 2\n",
        "1 x 3 = 3\n",
        "1 x 4 = 4\n",
        "1 x 5 = 5"
      ]
    },
    {
      "cell_type": "code",
      "execution_count": null,
      "metadata": {
        "colab": {
          "base_uri": "https://localhost:8080/"
        },
        "id": "ezCAY29ameev",
        "outputId": "86c64372-f545-4ab4-ae74-ffcec976d695"
      },
      "outputs": [
        {
          "name": "stdout",
          "output_type": "stream",
          "text": [
            "1 x 1 = 1\n",
            "1 x 2 = 2\n",
            "1 x 3 = 3\n",
            "1 x 4 = 4\n",
            "1 x 5 = 5\n",
            "1 x 6 = 6\n",
            "1 x 7 = 7\n",
            "1 x 8 = 8\n",
            "1 x 9 = 9\n",
            "1 x 10 = 10\n"
          ]
        }
      ],
      "source": [
        "for x in range(1,11):\n",
        "  print(f\"1 x {x} = {1*x}\")"
      ]
    },
    {
      "cell_type": "markdown",
      "metadata": {
        "id": "xSPo_hMqml2u"
      },
      "source": [
        "En un partido de fútbol, se ofrece un descuento a los aficionados que depende del estrato y la edad. Si el estrato es 1 y su edad es menor a 18 el descuento será del 20% sobre el valor de la boleta. Si el estrato es 1 y el alumno tiene 18 o mas años, el descuento será del 15%. Si el estrato es 2 y la edad es menor a 18 años, el descuento será del 10% y si el estrato es 2 y la edad es 18 años o más, el descuento será del 5%. Determinar el total del dinero recaudado y descontado por las últimas N personas que ingresan al partido.**texto en negrita**"
      ]
    },
    {
      "cell_type": "code",
      "execution_count": null,
      "metadata": {
        "colab": {
          "base_uri": "https://localhost:8080/"
        },
        "id": "Xfgfn6LBmq1W",
        "outputId": "39877220-6f3a-4edd-97b7-cdb610daa7f3"
      },
      "outputs": [
        {
          "name": "stdout",
          "output_type": "stream",
          "text": [
            "ingrese su estrato1\n",
            "ingrese su edad18\n",
            "ingrese el valor de su boleta50000\n",
            "Total recaudado:  127500.0\n",
            "Total descontado:  22500.0\n"
          ]
        }
      ],
      "source": [
        "total_recaudado = 0\n",
        "total_descuento = 0\n",
        "\n",
        "estrato = int(input(\"ingrese su estrato\"))\n",
        "edad = int(input(\"ingrese su edad\"))\n",
        "valor_boleta = int(input(\"ingrese el valor de su boleta\"))\n",
        "personas = [estrato, edad, valor_boleta]\n",
        "\n",
        "\n",
        "N = 6\n",
        "\n",
        "for persona in personas[-N:]:\n",
        "    persona = estrato\n",
        "    persona = edad\n",
        "    persona = valor_boleta\n",
        "\n",
        "    if estrato == 1:\n",
        "        if edad < 18:\n",
        "            descuento = 0.20\n",
        "        else:\n",
        "            descuento = 0.15\n",
        "    elif estrato == 2:\n",
        "        if edad < 18:\n",
        "            descuento = 0.10\n",
        "        else:\n",
        "            descuento = 0.05\n",
        "    else:\n",
        "        descuento = 0\n",
        "\n",
        "    monto_descuento = valor_boleta * descuento\n",
        "\n",
        "    pago = valor_boleta - monto_descuento\n",
        "\n",
        "    total_recaudado += pago\n",
        "    total_descuento += monto_descuento\n",
        "\n",
        "print(\"Total recaudado: \", total_recaudado)\n",
        "print(\"Total descontado: \", total_descuento)\n"
      ]
    },
    {
      "cell_type": "markdown",
      "metadata": {
        "id": "JPX9S0J8ms_e"
      },
      "source": [
        "Leer un password de ingreso a un programa y mostrar el mensaje de bienvenida si es correcto. Mientras no lo sea, debe mostrar el mensaje de Password incorrecto. El programa debe terminar automáticamente al quinto intento fallido."
      ]
    },
    {
      "cell_type": "code",
      "execution_count": 4,
      "metadata": {
        "colab": {
          "base_uri": "https://localhost:8080/"
        },
        "id": "M6BTZJgYrRI8",
        "outputId": "dd09227a-dcf5-4bcd-c2c7-2d842d92720f"
      },
      "outputs": [
        {
          "output_type": "stream",
          "name": "stdout",
          "text": [
            "Ingrese el password: dghjasf\n",
            "Password incorrecto\n",
            "Ingrese el password: fjsdf\n",
            "Password incorrecto\n",
            "Ingrese el password: sadffsd\n",
            "Password incorrecto\n",
            "Ingrese el password: nasfdh\n",
            "Password incorrecto\n",
            "Ingrese el password: vasbc\n",
            "Password incorrecto\n",
            "Demasiados intentos fallidos. Saliendo del programa.\n"
          ]
        }
      ],
      "source": [
        "contraseña_correcta = \"secreto\"\n",
        "\n",
        "for intentos in range(5):\n",
        "    entrada = input(\"Ingrese el password: \")\n",
        "\n",
        "    if entrada == contraseña_correcta:\n",
        "        print(\"¡Bienvenid@!\")\n",
        "        break\n",
        "    else:\n",
        "        print(\"Password incorrecto\")\n",
        "else:\n",
        "\n",
        "    print(\"Demasiados intentos fallidos. Saliendo del programa.\")"
      ]
    }
  ],
  "metadata": {
    "colab": {
      "provenance": []
    },
    "kernelspec": {
      "display_name": "Python 3",
      "name": "python3"
    },
    "language_info": {
      "name": "python"
    }
  },
  "nbformat": 4,
  "nbformat_minor": 0
}