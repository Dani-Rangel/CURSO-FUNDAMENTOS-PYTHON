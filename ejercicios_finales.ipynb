{
 "cells": [
  {
   "cell_type": "markdown",
   "metadata": {},
   "source": [
    "# Ejercicios para aplicar funciones, estructuras de control, colecciones, módulos y manejo de excepciones\n",
    "\n",
    "---\n",
    "\n",
    "## Ejercicio 1: Calculadora Avanzada\n",
    "\n",
    "**Descripción:**  \n",
    "Crea una función que actúe como calculadora. La función recibirá dos números y un operador (por ejemplo, '+', '-', '*', '/', '**', '//') para realizar la operación correspondiente.  \n",
    "- Utiliza estructuras de control (if/else) para seleccionar la operación a realizar.  \n",
    "- Usa manejo de excepciones para controlar errores como la división por cero y entradas no numéricas.  \n",
    "- Puedes importar el módulo `math` para operaciones adicionales si es necesario.\n",
    "\n",
    "**Ejemplo de salida:**  \n",
    "\n",
    "Ingrese el primer número: 10\n",
    "Ingrese el segundo número: 5\n",
    "Ingrese el operador (+, -, *, /, **, //): /\n",
    "Resultado: 10 / 5 = 2.0"
   ]
  },
  {
   "cell_type": "code",
   "execution_count": null,
   "metadata": {
    "vscode": {
     "languageId": "plaintext"
    }
   },
   "outputs": [],
   "source": [
    "num1 = float(input(\"Ingrese el primer número: \"))\n",
    "num2 = float(input(\"Ingrese el segundo número: \"))\n",
    "operador = input(\"Ingrese el operador (+, -, *, /, **, //): \")\n",
    "def calculadora(num1, num2, operador):\n",
    "  try:\n",
    "   if operador == '+':\n",
    "    return (num1 + num2)\n",
    "   elif operador == '-':\n",
    "    return (num1 - num2)\n",
    "   elif operador == '*':\n",
    "    return (num1 * num2)\n",
    "   elif operador == '/':\n",
    "    return (num1 / num2)\n",
    "   elif operador == '**':\n",
    "    return (num1 ** num2)\n",
    "   elif operador == '//':\n",
    "    return (num1 // num2)\n",
    "   else:\n",
    "    return \"Operador no válido\"\n",
    "  except ZeroDivisionError:\n",
    "    print(\"No se puede dividir entre cero\")\n",
    "print(f\"Resultado: {num1} {operador} {num2} = {calculadora(num1, num2, operador)}\")"
   ]
  },
  {
   "cell_type": "markdown",
   "metadata": {},
   "source": [
    "\n",
    "---\n",
    "\n",
    "## Ejercicio 2: Administrador de Inventarios\n",
    "\n",
    "**Descripción:**  \n",
    "Desarrolla un sistema para gestionar el inventario de productos usando un diccionario donde cada clave es el nombre del producto y su valor la cantidad en stock.  \n",
    "- Implementa funciones para agregar, actualizar y eliminar productos.  \n",
    "- Utiliza estructuras de control para recorrer y mostrar el inventario.  \n",
    "- Incluye manejo de excepciones para capturar intentos de actualizar o eliminar un producto inexistente.\n",
    "\n",
    "**Ejemplo de salida:**  \n",
    "Inventario inicial: {'manzanas': 50, 'naranjas': 30, 'peras': 20}\n",
    "Actualizando stock de 'peras' a 25...\n",
    "Producto 'bananas' agregado con 40 unidades.\n",
    "Eliminando 'naranjas'...\n",
    "Inventario final: {'manzanas': 50, 'peras': 25, 'bananas': 40}"
   ]
  },
  {
   "cell_type": "code",
   "execution_count": null,
   "metadata": {
    "vscode": {
     "languageId": "plaintext"
    }
   },
   "outputs": [],
   "source": [
    "Inventario = {'manzanas': 50, 'naranjas': 30, 'peras': 20, 'bananas': 40}\n",
    "\n",
    "def mostrar_inventario():\n",
    "    print(\"Inventario actual:\")\n",
    "    for producto, cantidad in Inventario.items():\n",
    "        print(f\"- {producto}: {cantidad}\")\n",
    "\n",
    "def agregar_producto():\n",
    "    nombre = input(\"Ingrese el nombre del producto a agregar: \").lower()\n",
    "    while True:\n",
    "        cantidad_str = input(f\"Ingrese la cantidad de '{nombre}' a agregar: \")\n",
    "        if cantidad_str.isdigit():\n",
    "            cantidad = int(cantidad_str)\n",
    "            Inventario[nombre] = Inventario.get(nombre, 0) + cantidad\n",
    "            print(f\"Se agregaron {cantidad} unidades de '{nombre}'.\")\n",
    "            break\n",
    "        else:\n",
    "            print(\"Cantidad inválida. Por favor, ingrese un número entero.\")\n",
    "\n",
    "def actualizar_producto():\n",
    "    nombre = input(\"Ingrese el nombre del producto a actualizar: \").lower()\n",
    "    if nombre in Inventario:\n",
    "        while True:\n",
    "            cantidad_str = input(f\"Ingrese la nueva cantidad para '{nombre}': \")\n",
    "            if cantidad_str.isdigit():\n",
    "                Inventario[nombre] = int(cantidad_str)\n",
    "                print(f\"El stock de '{nombre}' se actualizó a {Inventario[nombre]}.\")\n",
    "                break\n",
    "            else:\n",
    "                print(\"Cantidad inválida. Por favor, ingrese un número entero.\")\n",
    "    else:\n",
    "        print(f\"Error: El producto '{nombre}' no existe en el inventario.\")\n",
    "\n",
    "def eliminar_producto():\n",
    "    nombre = input(\"Ingrese el nombre del producto a eliminar: \").lower()\n",
    "    if nombre in Inventario:\n",
    "        del Inventario[nombre]\n",
    "        print(f\"El producto '{nombre}' ha sido eliminado del inventario.\")\n",
    "    else:\n",
    "        print(f\"Error: El producto '{nombre}' no existe en el inventario.\")\n",
    "\n",
    "mostrar_inventario()\n",
    "while True:\n",
    "    funcion = input(\"Ingrese la función a realizar (agregar, actualizar, eliminar, mostrar, salir): \").lower()\n",
    "    if funcion == \"agregar\":\n",
    "        agregar_producto()\n",
    "    elif funcion == \"actualizar\":\n",
    "        actualizar_producto()\n",
    "    elif funcion == \"eliminar\":\n",
    "        eliminar_producto()\n",
    "    elif funcion == \"mostrar\":\n",
    "        mostrar_inventario()\n",
    "    elif funcion == \"salir\":\n",
    "        print(\"Saliendo del programa.\")\n",
    "        break\n",
    "    else:\n",
    "        print(\"Función inválida. Por favor, ingrese 'agregar', 'actualizar', 'eliminar', 'mostrar' o 'salir'.\")"
   ]
  },
  {
   "cell_type": "markdown",
   "metadata": {},
   "source": [
    "\n",
    "---\n",
    "\n",
    "## Ejercicio 3: Análisis de Texto\n",
    "\n",
    "**Descripción:**  \n",
    "Crea una función que reciba una cadena de texto y calcule la frecuencia de cada palabra en el mismo.  \n",
    "- Convierte el texto a minúsculas y separa las palabras usando algún método (puedes utilizar expresiones regulares con el módulo `re`).  \n",
    "- Emplea un diccionario para almacenar la palabra (clave) y su frecuencia (valor).  \n",
    "- Controla excepciones en caso de que el usuario no ingrese ningún texto o ingrese caracteres inesperados.\n",
    "\n",
    "**Ejemplo de salida:**  \n",
    "Ingrese un texto: \"Hola mundo, hola a todos en el mundo\"\n",
    "Frecuencia de palabras: hola: 2\n",
    "mundo: 2\n",
    "a: 1\n",
    "todos: 1\n",
    "en: 1\n",
    "el: 1"
   ]
  },
  {
   "cell_type": "code",
   "execution_count": null,
   "metadata": {
    "vscode": {
     "languageId": "plaintext"
    }
   },
   "outputs": [],
   "source": [
    "cadena_texto = input(\"Ingrese un texto: \").lower()\n",
    "def frecuencia_palabras(cadena_texto):\n",
    "  palabras = cadena_texto.split()\n",
    "  frecuencia = {}\n",
    "  for palabra in palabras:\n",
    "    if palabra in frecuencia:\n",
    "      frecuencia[palabra] += 1\n",
    "    else:\n",
    "      frecuencia[palabra] = 1\n",
    "  return frecuencia\n",
    "print(f\"Frecuencia de palabras: {frecuencia_palabras(cadena_texto)}\")"
   ]
  },
  {
   "cell_type": "markdown",
   "metadata": {},
   "source": [
    "\n",
    "---\n",
    "\n",
    "## Ejercicio 4: Conversor de Unidades\n",
    "\n",
    "**Descripción:**  \n",
    "Desarrolla un conjunto de funciones para convertir unidades métricas. Por ejemplo:  \n",
    "- De centímetros a pulgadas.  \n",
    "- De kilómetros a millas.  \n",
    "Utiliza estructuras de control para verificar que la entrada sea numérica, y maneja excepciones cuando el usuario ingrese datos inválidos.\n",
    "\n",
    "**Ejemplo de salida:**  \n",
    "Seleccione la conversión:\n",
    "\n",
    "Centímetros a pulgadas\n",
    "\n",
    "Kilómetros a millas\n",
    "Opción: 1\n",
    "Ingrese la cantidad en centímetros: 100\n",
    "Resultado: 100 cm = 39.37 pulgadas"
   ]
  },
  {
   "cell_type": "code",
   "execution_count": null,
   "metadata": {
    "vscode": {
     "languageId": "plaintext"
    }
   },
   "outputs": [],
   "source": [
    "print(\"Seleccione la conversión:\")\n",
    "print(\"1. Centímetros a pulgadas\")\n",
    "print(\"2. Kilómetros a millas\")\n",
    "opcion = input(\"Opción: \")\n",
    "try:\n",
    " if opcion == \"1\":\n",
    "   centimetros = float(input(\"Ingrese la cantidad en centímetros: \"))\n",
    "   pulgadas = centimetros / 2.54\n",
    "   print(f\"{centimetros} cm = {pulgadas} pulgadas\")\n",
    " elif opcion == \"2\":\n",
    "   kilometros = float(input(\"Ingrese la cantidad en kilometros: \"))\n",
    "   millas = kilometros / 1.609\n",
    "   print(f\"{kilometros} km = {millas} millas\")\n",
    "except:\n",
    "  print(\"Opción inválida\")"
   ]
  },
  {
   "cell_type": "markdown",
   "metadata": {},
   "source": [
    "\n",
    "---\n",
    "\n",
    "## Ejercicio 5: Juego \"Adivina el Número\"\n",
    "\n",
    "**Descripción:**  \n",
    "Implementa un juego en el que la computadora selecciona aleatoriamente un número en un rango (por ejemplo, 1 a 50) y el usuario debe adivinarlo.  \n",
    "- Emplea el módulo `random` para generar el número secreto.  \n",
    "- Utiliza un bucle que permita múltiples intentos, con retroalimentación indicando si el número ingresado es mayor o menor que el secreto.  \n",
    "- Gestiona excepciones para capturar entradas no numéricas.\n",
    "\n",
    "**Ejemplo de salida:**  \n",
    "¡Bienvenido al juego \"Adivina el Número\"!\n",
    "Estoy pensando en un número entre 1 y 50.\n",
    "Intento 1 - Ingresa tu número: 25\n",
    "El número secreto es mayor.\n",
    "Intento 2 - Ingresa tu número: 35\n",
    "El número secreto es menor.\n",
    "Intento 3 - Ingresa tu número: 30\n",
    "¡Felicidades! Has adivinado el número secreto: 30"
   ]
  },
  {
   "cell_type": "code",
   "execution_count": null,
   "metadata": {
    "vscode": {
     "languageId": "plaintext"
    }
   },
   "outputs": [],
   "source": [
    "import random\n",
    "\n",
    "def jugar_adivina_el_numero():\n",
    "    numero_secreto = random.randint(1, 50)\n",
    "    intentos = 0\n",
    "\n",
    "    print(\"¡Bienvenido al juego 'Adivina el Número'!/n Estoy pensando en un número entre 1 y 50.\")\n",
    "\n",
    "    while True:\n",
    "        intentos += 1\n",
    "        try:\n",
    "            intento_usuario = int(input(f\"Intento {intentos} - Ingresa tu número: \"))\n",
    "\n",
    "            if intento_usuario < numero_secreto:\n",
    "                print(\"El número secreto es mayor.\")\n",
    "            elif intento_usuario > numero_secreto:\n",
    "                print(\"El número secreto es menor.\")\n",
    "            else:\n",
    "                print(f\"¡Felicidades! Has adivinado el número secreto: {numero_secreto}\")\n",
    "                break\n",
    "        except ValueError:\n",
    "            print(\"¡Entrada inválida! Por favor, ingresa un número entero.\")\n",
    "\n",
    "\n",
    "jugar_adivina_el_numero()"
   ]
  },
  {
   "cell_type": "markdown",
   "metadata": {},
   "source": [
    "\n",
    "---\n",
    "\n",
    "## Ejercicio 6: Calculadora de Factorial\n",
    "\n",
    "**Descripción:**  \n",
    "Crea una función que calcule el factorial de un número entero ingresado por el usuario.  \n",
    "- La función debe utilizar estructuras de control para iterar (o una solución recursiva) y calcular el factorial.  \n",
    "- Implementa manejo de excepciones para asegurarte de que el número ingresado es entero y no negativo.\n",
    "\n",
    "**Ejemplo de salida:**  \n",
    "Ingrese un número entero para calcular su factorial: 5\n",
    "El factorial de 5 es 120"
   ]
  },
  {
   "cell_type": "code",
   "execution_count": null,
   "metadata": {
    "vscode": {
     "languageId": "plaintext"
    }
   },
   "outputs": [],
   "source": [
    "usuario = int(input(\"Ingrese un número entero para calcular su factorial: \"))\n",
    "def factorial(usuario):\n",
    "  factorial = 1\n",
    "  for i in range(1, usuario + 1):\n",
    "    factorial = factorial * i\n",
    "  return factorial\n",
    "print(f\"El factorial de {usuario} es {factorial(usuario)}\")\n"
   ]
  },
  {
   "cell_type": "markdown",
   "metadata": {},
   "source": [
    "\n",
    "---\n",
    "\n",
    "## Ejercicio 7: Manejo de Fechas y Horas\n",
    "\n",
    "**Descripción:**  \n",
    "Desarrolla una función que reciba una fecha ingresada por el usuario en formato \"DD/MM/AAAA\" y determine cuántos días faltan para esa fecha a partir de hoy.  \n",
    "- Importa el módulo `datetime` para trabajar con fechas.  \n",
    "- Utiliza estructuras de control para validar el formato y maneja excepciones en caso de error en el ingreso de la fecha.\n",
    "\n",
    "**Ejemplo de salida:**  \n",
    "Ingrese una fecha (DD/MM/AAAA): 25/12/2023\n",
    "Faltan 150 días para el 25/12/2023."
   ]
  },
  {
   "cell_type": "code",
   "execution_count": null,
   "metadata": {
    "vscode": {
     "languageId": "plaintext"
    }
   },
   "outputs": [],
   "source": [
    "from datetime import datetime\n",
    "\n",
    "def calcular_dias_faltantes(fecha_ingresada):\n",
    "    try:\n",
    "        fecha_objetivo = datetime.strptime(fecha_ingresada, \"%d/%m/%Y\")\n",
    "    except ValueError:\n",
    "        return \"Formato de fecha inválido. Por favor, usa el formato DD/MM/AAAA.\"\n",
    "\n",
    "    fecha_actual = datetime.now()\n",
    "    diferencia = (fecha_objetivo - fecha_actual).days\n",
    "    if diferencia < 0:\n",
    "        return f\"La fecha {fecha_ingresada} ya ha pasado.\"\n",
    "    \n",
    "    return f\"Faltan {diferencia} días para el {fecha_ingresada}.\"\n",
    "fecha_usuario = input(\"Ingrese una fecha (DD/MM/AAAA): \")\n",
    "resultado = calcular_dias_faltantes(fecha_usuario)\n",
    "print(resultado)"
   ]
  },
  {
   "cell_type": "markdown",
   "metadata": {},
   "source": [
    "\n",
    "---\n",
    "\n",
    "## Ejercicio 8: Registro de Estudiantes\n",
    "\n",
    "**Descripción:**  \n",
    "Implementa un sistema que gestione un registro de estudiantes utilizando un diccionario, donde la clave sea el nombre y el valor la calificación.  \n",
    "- Crea funciones para agregar un estudiante, actualizar la calificación, eliminar estudiantes y listar todo el registro.  \n",
    "- Utiliza un bucle para mostrar un menú interactivo al usuario.  \n",
    "- Maneja excepciones para gestionar errores en la selección de opciones o al intentar modificar un estudiante inexistente.\n",
    "\n",
    "**Ejemplo de salida:**  \n",
    "Registro de estudiantes inicial: {'Ana': 90, 'Luis': 78, 'Carlos': 85}\n",
    "\n",
    "Menú:\n",
    "\n",
    "Agregar estudiante\n",
    "\n",
    "Actualizar calificación\n",
    "\n",
    "Eliminar estudiante\n",
    "\n",
    "Listar estudiantes\n",
    "\n",
    "Salir\n",
    "\n",
    "Opción: 2\n",
    "Ingrese el nombre del estudiante: Luis\n",
    "Ingrese la nueva calificación: 82\n",
    "Estudiante actualizado: Luis - 82\n",
    "\n",
    "Registro final: {'Ana': 90, 'Luis': 82, 'Carlos': 85}"
   ]
  },
  {
   "cell_type": "code",
   "execution_count": null,
   "metadata": {
    "vscode": {
     "languageId": "plaintext"
    }
   },
   "outputs": [],
   "source": [
    "registro_estudiantes = {\n",
    "    'Ana': 90,\n",
    "    'Luis': 78,\n",
    "    'Carlos': 85\n",
    "}\n",
    "\n",
    "def mostrar_registro():\n",
    "    print(\"Registro de estudiantes:\")\n",
    "    for nombre, calificacion in registro_estudiantes.items():\n",
    "        print(f\"{nombre}: {calificacion}\")\n",
    "\n",
    "def agregar_estudiante(nombre, calificacion):\n",
    "    if nombre in registro_estudiantes:\n",
    "        print(f\"El estudiante '{nombre}' ya existe en el registro.\")\n",
    "    else:\n",
    "        registro_estudiantes[nombre] = calificacion\n",
    "        print(f\"Estudiante '{nombre}' agregado con calificación {calificacion}.\")\n",
    "\n",
    "def actualizar_calificacion(nombre, nueva_calificacion):\n",
    "    if nombre in registro_estudiantes:\n",
    "        registro_estudiantes[nombre] = nueva_calificacion\n",
    "        print(f\"Estudiante actualizado: {nombre} - {nueva_calificacion}\")\n",
    "    else:\n",
    "        raise KeyError(f\"El estudiante '{nombre}' no existe en el registro.\")\n",
    "\n",
    "def eliminar_estudiante(nombre):\n",
    "    if nombre in registro_estudiantes:\n",
    "        del registro_estudiantes[nombre]\n",
    "        print(f\"Estudiante '{nombre}' eliminado del registro.\")\n",
    "    else:\n",
    "        raise KeyError(f\"El estudiante '{nombre}' no existe en el registro.\")\n",
    "\n",
    "def menu():\n",
    "    while True:\n",
    "        print(\"\\nMenú: /n 1. Agregar estudiante /n 2. Actualizar calificación /n 3. Eliminar estudiante /n 4. Listar estudiantes /n 5. Salir\")\n",
    "\n",
    "        opcion = input(\"Opción: \")\n",
    "\n",
    "        if opcion == '1':\n",
    "            nombre = input(\"Ingrese el nombre del estudiante: \")\n",
    "            calificacion = float(input(\"Ingrese la calificación: \"))\n",
    "            agregar_estudiante(nombre, calificacion)\n",
    "        elif opcion == '2':\n",
    "            nombre = input(\"Ingrese el nombre del estudiante: \")\n",
    "            nueva_calificacion = float(input(\"Ingrese la nueva calificación: \"))\n",
    "            try:\n",
    "                actualizar_calificacion(nombre, nueva_calificacion)\n",
    "            except KeyError as e:\n",
    "                print(e)\n",
    "        elif opcion == '3':\n",
    "            nombre = input(\"Ingrese el nombre del estudiante: \")\n",
    "            try:\n",
    "                eliminar_estudiante(nombre)\n",
    "            except KeyError as e:\n",
    "                print(e)\n",
    "        elif opcion == '4':\n",
    "            mostrar_registro()\n",
    "        elif opcion == '5':\n",
    "            print(\"Saliendo del programa...\")\n",
    "            break\n",
    "        else:\n",
    "            print(\"Opción inválida. Por favor, seleccione una opción válida.\")\n",
    "\n",
    "\n",
    "print(\"Registro de estudiantes inicial:\", registro_estudiantes)\n",
    "menu()\n",
    "print(\"Registro final:\", registro_estudiantes)"
   ]
  },
  {
   "cell_type": "markdown",
   "metadata": {},
   "source": [
    "\n",
    "---\n",
    "\n",
    "## Ejercicio 9: Generador de Contraseñas Aleatorias\n",
    "\n",
    "**Descripción:**  \n",
    "Crea una función que genere una contraseña aleatoria de una longitud especificada por el usuario.  \n",
    "- Utiliza el módulo `random` junto con la biblioteca `string` para construir la contraseña a partir de letras (mayúsculas y minúsculas), dígitos y caracteres especiales.  \n",
    "- Valida la entrada y maneja excepciones para asegurarte de que la longitud es un número entero positivo.\n",
    "\n",
    "**Ejemplo de salida:**  \n",
    "Ingrese la longitud deseada para la contraseña: 10\n",
    "Contraseña generada: A8b#K3d!Qz"
   ]
  },
  {
   "cell_type": "code",
   "execution_count": null,
   "metadata": {
    "vscode": {
     "languageId": "plaintext"
    }
   },
   "outputs": [],
   "source": [
    "import random\n",
    "import string\n",
    "\n",
    "def generar_contrasena_simple(longitud):\n",
    "    caracteres = string.ascii_letters + string.digits + string.punctuation\n",
    "    contrasena = ''.join(random.choice(caracteres) for _ in range(longitud))\n",
    "    return contrasena\n",
    "\n",
    "longitud_deseada = int(input(\"Ingrese la longitud deseada para la contraseña: \"))\n",
    "contrasena_generada = generar_contrasena_simple(longitud_deseada)\n",
    "print(f\"Contraseña generada: {contrasena_generada}\")"
   ]
  },
  {
   "cell_type": "markdown",
   "metadata": {},
   "source": [
    "\n",
    "---\n",
    "\n",
    "## Ejercicio 10: Buscador de Archivos en un Directorio\n",
    "\n",
    "**Descripción:**  \n",
    "Desarrolla una función que reciba el nombre de un directorio y una subcadena para buscar archivos cuyo nombre la contenga.  \n",
    "- Utiliza el módulo `os` para listar el contenido del directorio.  \n",
    "- Aplica estructuras de control para filtrar los archivos según la subcadena.  \n",
    "- Implementa manejo de excepciones para controlar errores como directorio no existente o permisos insuficientes.\n",
    "\n",
    "**Ejemplo de salida:**  \n",
    "Ingrese la ruta del directorio: /ruta/al/directorio\n",
    "Ingrese la subcadena a buscar: reporte\n",
    "Archivos encontrados que contienen \"reporte\":\n",
    "\n",
    "reporte_enero.pdf\n",
    "\n",
    "reporte_febrero.xlsx\n",
    "\n",
    "resumen_reporte.txt"
   ]
  },
  {
   "cell_type": "code",
   "execution_count": null,
   "metadata": {
    "vscode": {
     "languageId": "plaintext"
    }
   },
   "outputs": [],
   "source": [
    "import os\n",
    "\n",
    "def buscar_archivos(ruta_directorio, subcadena):\n",
    "    archivos_encontrados = []\n",
    "    try:\n",
    "        if not os.path.isdir(ruta_directorio):\n",
    "            raise FileNotFoundError(f\"El directorio '{ruta_directorio}' no existe.\")\n",
    "\n",
    "        nombres_archivos = os.listdir(ruta_directorio)\n",
    "        for nombre_archivo in nombres_archivos:\n",
    "            if subcadena.lower() in nombre_archivo.lower():\n",
    "                archivos_encontrados.append(nombre_archivo)\n",
    "\n",
    "    except FileNotFoundError as e:\n",
    "        print(f\"Error: {e}\")\n",
    "    except PermissionError:\n",
    "        print(f\"Error: No tienes permiso para acceder al directorio '{ruta_directorio}'.\")\n",
    "    except Exception as e:\n",
    "        print(f\"Ocurrió un error inesperado: {e}\")\n",
    "\n",
    "    return archivos_encontrados\n",
    "\n",
    "print(\"Este script busca archivos que contengan una subcadena específica dentro de un directorio.\")\n",
    "ruta = input(\"Ingrese la ruta del directorio: \")\n",
    "sub = input(\"Ingrese la subcadena a buscar: \")\n",
    "resultados = buscar_archivos(ruta, sub)\n",
    "\n",
    "if resultados:\n",
    "    print(f\"\\nArchivos encontrados que contienen \\\"{sub}\\\":\")\n",
    "    for archivo in resultados:\n",
    "        print(archivo)\n",
    "else:\n",
    "    print(f\"\\nNo se encontraron archivos que contengan \\\"{sub}\\\" en el directorio.\")"
   ]
  }
 ],
 "metadata": {
  "language_info": {
   "name": "python"
  }
 },
 "nbformat": 4,
 "nbformat_minor": 2
}
